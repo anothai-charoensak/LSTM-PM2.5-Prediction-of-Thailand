{
 "cells": [
  {
   "cell_type": "code",
   "execution_count": 47,
   "metadata": {},
   "outputs": [],
   "source": [
    "#https://ichi.pro/th/kar-phyakrn-xnukrm-wela-kar-chi-phlangngan-dwy-model-kar-reiyn-ru-cheing-luk-python-laea-lstm-133396902291350\n",
    "\n",
    "import numpy as np \n",
    "import pandas as pd \n",
    "import matplotlib.pyplot as plt \n",
    "from tensorflow.keras import Sequential\n",
    "from tensorflow.keras.layers import LSTM, Dense"
   ]
  },
  {
   "cell_type": "code",
   "execution_count": 48,
   "metadata": {},
   "outputs": [
    {
     "data": {
      "text/html": [
       "<div>\n",
       "<style scoped>\n",
       "    .dataframe tbody tr th:only-of-type {\n",
       "        vertical-align: middle;\n",
       "    }\n",
       "\n",
       "    .dataframe tbody tr th {\n",
       "        vertical-align: top;\n",
       "    }\n",
       "\n",
       "    .dataframe thead th {\n",
       "        text-align: right;\n",
       "    }\n",
       "</style>\n",
       "<table border=\"1\" class=\"dataframe\">\n",
       "  <thead>\n",
       "    <tr style=\"text-align: right;\">\n",
       "      <th></th>\n",
       "      <th>PM2.5</th>\n",
       "    </tr>\n",
       "    <tr>\n",
       "      <th>date</th>\n",
       "      <th></th>\n",
       "    </tr>\n",
       "  </thead>\n",
       "  <tbody>\n",
       "    <tr>\n",
       "      <th>2016-03-03 08:00:00</th>\n",
       "      <td>53.99</td>\n",
       "    </tr>\n",
       "    <tr>\n",
       "      <th>2016-03-03 09:00:00</th>\n",
       "      <td>53.95</td>\n",
       "    </tr>\n",
       "    <tr>\n",
       "      <th>2016-03-03 10:00:00</th>\n",
       "      <td>54.10</td>\n",
       "    </tr>\n",
       "    <tr>\n",
       "      <th>2016-03-03 11:00:00</th>\n",
       "      <td>53.93</td>\n",
       "    </tr>\n",
       "    <tr>\n",
       "      <th>2016-03-03 12:00:00</th>\n",
       "      <td>41.23</td>\n",
       "    </tr>\n",
       "    <tr>\n",
       "      <th>...</th>\n",
       "      <td>...</td>\n",
       "    </tr>\n",
       "    <tr>\n",
       "      <th>2022-03-13 17:00:00</th>\n",
       "      <td>56.30</td>\n",
       "    </tr>\n",
       "    <tr>\n",
       "      <th>2022-03-13 18:00:00</th>\n",
       "      <td>53.34</td>\n",
       "    </tr>\n",
       "    <tr>\n",
       "      <th>2022-03-13 19:00:00</th>\n",
       "      <td>51.25</td>\n",
       "    </tr>\n",
       "    <tr>\n",
       "      <th>2022-03-13 20:00:00</th>\n",
       "      <td>48.54</td>\n",
       "    </tr>\n",
       "    <tr>\n",
       "      <th>2022-03-13 21:00:00</th>\n",
       "      <td>46.74</td>\n",
       "    </tr>\n",
       "  </tbody>\n",
       "</table>\n",
       "<p>46904 rows × 1 columns</p>\n",
       "</div>"
      ],
      "text/plain": [
       "                     PM2.5\n",
       "date                      \n",
       "2016-03-03 08:00:00  53.99\n",
       "2016-03-03 09:00:00  53.95\n",
       "2016-03-03 10:00:00  54.10\n",
       "2016-03-03 11:00:00  53.93\n",
       "2016-03-03 12:00:00  41.23\n",
       "...                    ...\n",
       "2022-03-13 17:00:00  56.30\n",
       "2022-03-13 18:00:00  53.34\n",
       "2022-03-13 19:00:00  51.25\n",
       "2022-03-13 20:00:00  48.54\n",
       "2022-03-13 21:00:00  46.74\n",
       "\n",
       "[46904 rows x 1 columns]"
      ]
     },
     "execution_count": 48,
     "metadata": {},
     "output_type": "execute_result"
    }
   ],
   "source": [
    "#http://berkeleyearth.org/air-pollution-overview/\n",
    "\n",
    "from pandas import read_csv\n",
    "from datetime import datetime\n",
    "\n",
    "def parse(x):\n",
    "\treturn datetime.strptime(x, '%Y %m %d %H')\n",
    "\t\n",
    "df = pd.read_csv('Thailand.csv', usecols=[0,1,2,3,4], engine='python', \n",
    "\t\t\t\tparse_dates = [['Year', 'Month', 'Day', 'Hour']], \n",
    "\t\t\t\tindex_col=0, date_parser=parse)\n",
    "df.index.name = 'date'\n",
    "df "
   ]
  },
  {
   "cell_type": "code",
   "execution_count": 49,
   "metadata": {},
   "outputs": [
    {
     "data": {
      "text/html": [
       "<div>\n",
       "<style scoped>\n",
       "    .dataframe tbody tr th:only-of-type {\n",
       "        vertical-align: middle;\n",
       "    }\n",
       "\n",
       "    .dataframe tbody tr th {\n",
       "        vertical-align: top;\n",
       "    }\n",
       "\n",
       "    .dataframe thead th {\n",
       "        text-align: right;\n",
       "    }\n",
       "</style>\n",
       "<table border=\"1\" class=\"dataframe\">\n",
       "  <thead>\n",
       "    <tr style=\"text-align: right;\">\n",
       "      <th></th>\n",
       "      <th>count</th>\n",
       "      <th>mean</th>\n",
       "      <th>std</th>\n",
       "      <th>min</th>\n",
       "      <th>25%</th>\n",
       "      <th>50%</th>\n",
       "      <th>75%</th>\n",
       "      <th>max</th>\n",
       "    </tr>\n",
       "  </thead>\n",
       "  <tbody>\n",
       "    <tr>\n",
       "      <th>PM2.5</th>\n",
       "      <td>46904.0</td>\n",
       "      <td>24.04</td>\n",
       "      <td>13.63</td>\n",
       "      <td>4.02</td>\n",
       "      <td>13.14</td>\n",
       "      <td>19.49</td>\n",
       "      <td>33.05</td>\n",
       "      <td>131.54</td>\n",
       "    </tr>\n",
       "  </tbody>\n",
       "</table>\n",
       "</div>"
      ],
      "text/plain": [
       "         count   mean    std   min    25%    50%    75%     max\n",
       "PM2.5  46904.0  24.04  13.63  4.02  13.14  19.49  33.05  131.54"
      ]
     },
     "execution_count": 49,
     "metadata": {},
     "output_type": "execute_result"
    }
   ],
   "source": [
    "df.describe().round(2).T"
   ]
  },
  {
   "cell_type": "code",
   "execution_count": 50,
   "metadata": {},
   "outputs": [
    {
     "data": {
      "image/png": "[encoded data removed]",
      "text/plain": [
       "<Figure size 864x288 with 1 Axes>"
      ]
     },
     "metadata": {
      "needs_background": "light"
     },
     "output_type": "display_data"
    }
   ],
   "source": [
    "#มลพิษ ประเทศไทย ค่า PM 2.5 ไม่ควรเกิน 50 ไมโครกรัมต่อลูกบาศก์เมตรใน 24 ชั่วโมง\n",
    "\n",
    "plt.figure(figsize=(12, 4))\n",
    "plt.plot(df, 'b', lw=3.0, label='PM 2.5 in Thailand')\n",
    "plt.legend()\n",
    "plt.show()"
   ]
  },
  {
   "cell_type": "code",
   "execution_count": 51,
   "metadata": {},
   "outputs": [
    {
     "name": "stdout",
     "output_type": "stream",
     "text": [
      "<class 'pandas.core.frame.DataFrame'>\n",
      "DatetimeIndex: 46904 entries, 2016-03-03 08:00:00 to 2022-03-13 21:00:00\n",
      "Data columns (total 1 columns):\n",
      " #   Column  Non-Null Count  Dtype  \n",
      "---  ------  --------------  -----  \n",
      " 0   PM2.5   46904 non-null  float64\n",
      "dtypes: float64(1)\n",
      "memory usage: 732.9 KB\n"
     ]
    },
    {
     "data": {
      "text/plain": [
       "(46904, 1)"
      ]
     },
     "execution_count": 51,
     "metadata": {},
     "output_type": "execute_result"
    }
   ],
   "source": [
    "df.info()\n",
    "df.shape"
   ]
  },
  {
   "cell_type": "markdown",
   "metadata": {},
   "source": [
    "##### การแบ่งข้อมูลใช้ในการ train และ test"
   ]
  },
  {
   "cell_type": "code",
   "execution_count": 52,
   "metadata": {},
   "outputs": [
    {
     "data": {
      "text/plain": [
       "32832"
      ]
     },
     "execution_count": 52,
     "metadata": {},
     "output_type": "execute_result"
    }
   ],
   "source": [
    "n_train = int(df.shape[0] * 0.70)\n",
    "n_train"
   ]
  },
  {
   "cell_type": "markdown",
   "metadata": {},
   "source": [
    "##### การแปลงข้อมูลให้เป็น Normalize คือแปลงข้อมูลให้เป็นเลข 0-1"
   ]
  },
  {
   "cell_type": "code",
   "execution_count": 53,
   "metadata": {},
   "outputs": [
    {
     "data": {
      "text/plain": [
       "array([[0.3918601 ],\n",
       "       [0.39154642],\n",
       "       [0.39272271],\n",
       "       [0.39138959],\n",
       "       [0.29179737]])"
      ]
     },
     "execution_count": 53,
     "metadata": {},
     "output_type": "execute_result"
    }
   ],
   "source": [
    "from sklearn.preprocessing import MinMaxScaler\n",
    "\n",
    "sc = MinMaxScaler()\n",
    "data_sc = sc.fit_transform(df.values)\n",
    "data_sc[:5]"
   ]
  },
  {
   "cell_type": "markdown",
   "metadata": {},
   "source": [
    "##### สร้างฟังก์ชันเพื่อเตรียมข้อมูลให้เป็น matrix ใช้ step = 2"
   ]
  },
  {
   "cell_type": "code",
   "execution_count": 54,
   "metadata": {},
   "outputs": [],
   "source": [
    "def convertToMatrix(data, step=2):\n",
    "    X, Y, = [], []\n",
    "    for i in range(len(data)-step):\n",
    "        d = i + step\n",
    "        X.append(data[i:d,])\n",
    "        Y.append(data[d,])\n",
    "    return np.array(X), np.array(Y)"
   ]
  },
  {
   "cell_type": "markdown",
   "metadata": {},
   "source": [
    "##### การแบ่งข้อมูลเพื่อใช้ในการ train และ test "
   ]
  },
  {
   "cell_type": "code",
   "execution_count": 55,
   "metadata": {},
   "outputs": [
    {
     "data": {
      "text/plain": [
       "((32832, 1), (14072, 1))"
      ]
     },
     "execution_count": 55,
     "metadata": {},
     "output_type": "execute_result"
    }
   ],
   "source": [
    "X, y = data_sc[0:n_train], data_sc[n_train:]\n",
    "X.shape, y.shape"
   ]
  },
  {
   "cell_type": "code",
   "execution_count": 56,
   "metadata": {},
   "outputs": [
    {
     "data": {
      "text/plain": [
       "array([[0.3918601 ],\n",
       "       [0.39154642],\n",
       "       [0.39272271],\n",
       "       ...,\n",
       "       [0.43397114],\n",
       "       [0.42675659],\n",
       "       [0.42714868]])"
      ]
     },
     "execution_count": 56,
     "metadata": {},
     "output_type": "execute_result"
    }
   ],
   "source": [
    "X"
   ]
  },
  {
   "cell_type": "code",
   "execution_count": 57,
   "metadata": {},
   "outputs": [],
   "source": [
    "import numpy as np\n",
    "\n",
    "def create_X_Y(ts: list, lag: int) -> tuple:\n",
    "    \"\"\"\n",
    "    A method to create X and Y matrix from a time series list for the training of \n",
    "    deep learning models \n",
    "    \"\"\"\n",
    "    X, Y = [], []\n",
    "\n",
    "    if len(ts) - lag <= 0:\n",
    "        X.append(ts)\n",
    "    else:\n",
    "        for i in range(len(ts) - lag):\n",
    "            Y.append(ts[i + lag])\n",
    "            X.append(ts[i:(i + lag)])\n",
    "\n",
    "    X, Y = np.array(X), np.array(Y)\n",
    "\n",
    "    # Reshaping the X array to an LSTM input shape \n",
    "    X = np.reshape(X, (X.shape[0], X.shape[1], 1))\n",
    "\n",
    "    return X, Y"
   ]
  },
  {
   "cell_type": "code",
   "execution_count": 58,
   "metadata": {},
   "outputs": [],
   "source": [
    "# Deep learning packages\n",
    "from keras.models import Sequential\n",
    "from keras.layers import LSTM, Dense\n",
    "\n",
    "# Defining the number of neurons in the LSTM layer\n",
    "n_layer = 50\n",
    "\n",
    "# Defining how many lags will be used in the time series\n",
    "n_lag = 3\n",
    "\n",
    "# Defining the model\n",
    "model = Sequential()\n",
    "model.add(LSTM(n_layer, activation='relu', input_shape=(n_lag, 1)))\n",
    "model.add(Dense(1))\n",
    "\n",
    "# The objective functions which will be minimized is mean squared error (mse)\n",
    "model.compile(optimizer='adam', loss='mse')"
   ]
  },
  {
   "cell_type": "code",
   "execution_count": 59,
   "metadata": {},
   "outputs": [],
   "source": [
    "# Data wrangling\n",
    "import pandas as pd\n",
    "import numpy as np\n",
    "\n",
    "# Deep learning: \n",
    "from keras.models import Sequential\n",
    "from keras.layers import LSTM, Dense\n",
    "\n",
    "\n",
    "class DeepModelTS():\n",
    "    \"\"\"\n",
    "    A class to create a deep time series model\n",
    "    \"\"\"\n",
    "    def __init__(\n",
    "        self, \n",
    "        data: pd.DataFrame, \n",
    "        Y_var: str,\n",
    "        lag: int,\n",
    "        LSTM_layer_depth: int, \n",
    "        epochs=10, \n",
    "        batch_size=256,\n",
    "        train_test_split=0\n",
    "    ):\n",
    "\n",
    "        self.data = data \n",
    "        self.Y_var = Y_var \n",
    "        self.lag = lag \n",
    "        self.LSTM_layer_depth = LSTM_layer_depth\n",
    "        self.batch_size = batch_size\n",
    "        self.epochs = epochs\n",
    "        self.train_test_split = train_test_split\n",
    "\n",
    "    @staticmethod\n",
    "    def create_X_Y(ts: list, lag: int) -> tuple:\n",
    "        \"\"\"\n",
    "        A method to create X and Y matrix from a time series list for the training of \n",
    "        deep learning models \n",
    "        \"\"\"\n",
    "        X, Y = [], []\n",
    "\n",
    "        if len(ts) - lag <= 0:\n",
    "            X.append(ts)\n",
    "        else:\n",
    "            for i in range(len(ts) - lag):\n",
    "                Y.append(ts[i + lag])\n",
    "                X.append(ts[i:(i + lag)])\n",
    "\n",
    "        X, Y = np.array(X), np.array(Y)\n",
    "\n",
    "        # Reshaping the X array to an LSTM input shape \n",
    "        X = np.reshape(X, (X.shape[0], X.shape[1], 1))\n",
    "\n",
    "        return X, Y         \n",
    "\n",
    "    def create_data_for_NN(\n",
    "        self,\n",
    "        use_last_n=None\n",
    "        ):\n",
    "        \"\"\"\n",
    "        A method to create data for the neural network model\n",
    "        \"\"\"\n",
    "        # Extracting the main variable we want to model/forecast\n",
    "        y = self.data[self.Y_var].tolist()\n",
    "\n",
    "        # Subseting the time series if needed\n",
    "        if use_last_n is not None:\n",
    "            y = y[-use_last_n:]\n",
    "\n",
    "        # The X matrix will hold the lags of Y \n",
    "        X, Y = self.create_X_Y(y, self.lag)\n",
    "\n",
    "        # Creating training and test sets \n",
    "        X_train = X\n",
    "        X_test = []\n",
    "\n",
    "        Y_train = Y\n",
    "        Y_test = []\n",
    "\n",
    "        if self.train_test_split > 0:\n",
    "            index = round(len(X) * self.train_test_split)\n",
    "            X_train = X[:(len(X) - index)]\n",
    "            X_test = X[-index:]     \n",
    "            \n",
    "            Y_train = Y[:(len(X) - index)]\n",
    "            Y_test = Y[-index:]\n",
    "\n",
    "        return X_train, X_test, Y_train, Y_test\n",
    "\n",
    "    def LSTModel(self):\n",
    "        \"\"\"\n",
    "        A method to fit the LSTM model \n",
    "        \"\"\"\n",
    "        # Getting the data \n",
    "        X_train, X_test, Y_train, Y_test = self.create_data_for_NN()\n",
    "\n",
    "        # Defining the model\n",
    "        model = Sequential()\n",
    "        model.add(LSTM(self.LSTM_layer_depth, activation='relu', input_shape=(self.lag, 1)))\n",
    "        model.add(Dense(1))\n",
    "        model.compile(optimizer='adam', loss='mse')\n",
    "\n",
    "        # Defining the model parameter dict \n",
    "        keras_dict = {\n",
    "            'x': X_train,\n",
    "            'y': Y_train,\n",
    "            'batch_size': self.batch_size,\n",
    "            'epochs': self.epochs,\n",
    "            'shuffle': False\n",
    "        }\n",
    "\n",
    "        if self.train_test_split > 0:\n",
    "            keras_dict.update({\n",
    "                'validation_data': (X_test, Y_test)\n",
    "            })\n",
    "\n",
    "        # Fitting the model \n",
    "        model.fit(\n",
    "            **keras_dict\n",
    "        )\n",
    "\n",
    "        # Saving the model to the class \n",
    "        self.model = model\n",
    "\n",
    "        return model\n",
    "\n",
    "    def predict(self) -> list:\n",
    "        \"\"\"\n",
    "        A method to predict using the test data used in creating the class\n",
    "        \"\"\"\n",
    "        yhat = []\n",
    "\n",
    "        if(self.train_test_split > 0):\n",
    "        \n",
    "            # Getting the last n time series \n",
    "            _, X_test, _, _ = self.create_data_for_NN()        \n",
    "\n",
    "            # Making the prediction list \n",
    "            yhat = [y[0] for y in self.model.predict(X_test)]\n",
    "\n",
    "        return yhat\n",
    "\n",
    "    def predict_n_ahead(self, n_ahead: int):\n",
    "        \"\"\"\n",
    "        A method to predict n time steps ahead\n",
    "        \"\"\"    \n",
    "        X, _, _, _ = self.create_data_for_NN(use_last_n=self.lag)        \n",
    "\n",
    "        # Making the prediction list \n",
    "        yhat = []\n",
    "\n",
    "        for _ in range(n_ahead):\n",
    "            # Making the prediction\n",
    "            fc = self.model.predict(X)\n",
    "            yhat.append(fc)\n",
    "\n",
    "            # Creating a new input matrix for forecasting\n",
    "            X = np.append(X, fc)\n",
    "\n",
    "            # Ommiting the first variable\n",
    "            X = np.delete(X, 0)\n",
    "\n",
    "            # Reshaping for the next iteration\n",
    "            X = np.reshape(X, (1, len(X), 1))\n",
    "\n",
    "        return yhat    "
   ]
  },
  {
   "cell_type": "code",
   "execution_count": 60,
   "metadata": {},
   "outputs": [],
   "source": [
    "# Initiating the class\n",
    "deep_learner = DeepModelTS(\n",
    "data = df,\n",
    "Y_var = 'PM2.5',\n",
    "lag = 6,\n",
    "LSTM_layer_depth = 50,\n",
    "epochs = 10,\n",
    "batch_size = 256,\n",
    "train_test_split = 0.15\n",
    ")"
   ]
  },
  {
   "cell_type": "code",
   "execution_count": 61,
   "metadata": {},
   "outputs": [
    {
     "name": "stdout",
     "output_type": "stream",
     "text": [
      "Epoch 1/10\n",
      "156/156 [==============================] - 4s 17ms/step - loss: 140.3636 - val_loss: 41.9305\n",
      "Epoch 2/10\n",
      "156/156 [==============================] - 2s 14ms/step - loss: 13.3151 - val_loss: 33.8901\n",
      "Epoch 3/10\n",
      "156/156 [==============================] - 2s 14ms/step - loss: 10.6948 - val_loss: 29.5797\n",
      "Epoch 4/10\n",
      "156/156 [==============================] - 2s 15ms/step - loss: 9.1962 - val_loss: 26.6918\n",
      "Epoch 5/10\n",
      "156/156 [==============================] - 2s 15ms/step - loss: 10.8357 - val_loss: 29.2571\n",
      "Epoch 6/10\n",
      "156/156 [==============================] - 2s 14ms/step - loss: 9.1765 - val_loss: 18.5607\n",
      "Epoch 7/10\n",
      "156/156 [==============================] - 3s 17ms/step - loss: 8.3923 - val_loss: 23.3303\n",
      "Epoch 8/10\n",
      "156/156 [==============================] - 2s 14ms/step - loss: 7.8291 - val_loss: 19.2078\n",
      "Epoch 9/10\n",
      "156/156 [==============================] - 2s 13ms/step - loss: 8.3531 - val_loss: 19.7577\n",
      "Epoch 10/10\n",
      "156/156 [==============================] - 2s 13ms/step - loss: 8.3040 - val_loss: 18.2444\n"
     ]
    }
   ],
   "source": [
    "# Fitting the model\n",
    "model = deep_learner.LSTModel()"
   ]
  },
  {
   "cell_type": "code",
   "execution_count": 62,
   "metadata": {},
   "outputs": [
    {
     "data": {
      "image/png": "[encoded data removed]",
      "text/plain": [
       "<Figure size 864x576 with 1 Axes>"
      ]
     },
     "metadata": {
      "needs_background": "light"
     },
     "output_type": "display_data"
    }
   ],
   "source": [
    "#มลพิษ ประเทศไทย ค่า PM 2.5 ไม่ควรเกิน 50 ไมโครกรัมต่อลูกบาศก์เมตรใน 24 ชั่วโมง\n",
    "\n",
    "yhat = deep_learner.predict()\n",
    "# Constructing the forecast dataframe\n",
    "fc = df.tail(len(yhat)).copy()\n",
    "fc.reset_index(inplace=True)\n",
    "fc['forecast'] = yhat\n",
    "# Ploting the forecasts\n",
    "plt.figure(figsize=(12, 8))\n",
    "for dtype in ['PM2.5', 'forecast']: #'forecast'\n",
    "\n",
    "    plt.plot(\n",
    "        'date',\n",
    "        dtype,\n",
    "        data=fc,\n",
    "        label=dtype,\n",
    "        alpha=0.8\n",
    "    )\n",
    "plt.legend()\n",
    "plt.grid()\n",
    "plt.show()"
   ]
  },
  {
   "cell_type": "code",
   "execution_count": 63,
   "metadata": {},
   "outputs": [
    {
     "name": "stdout",
     "output_type": "stream",
     "text": [
      "Epoch 1/10\n",
      "184/184 [==============================] - 21s 107ms/step - loss: 293.4805\n",
      "Epoch 2/10\n",
      "184/184 [==============================] - 19s 103ms/step - loss: 162036608.0000\n",
      "Epoch 3/10\n",
      "184/184 [==============================] - 18s 97ms/step - loss: 11512140.0000\n",
      "Epoch 4/10\n",
      "184/184 [==============================] - 17s 91ms/step - loss: 26072.4688\n",
      "Epoch 5/10\n",
      "184/184 [==============================] - 16s 84ms/step - loss: 1091.9520\n",
      "Epoch 6/10\n",
      "184/184 [==============================] - 16s 88ms/step - loss: 1107.0055\n",
      "Epoch 7/10\n",
      "184/184 [==============================] - 18s 99ms/step - loss: 1098.5760\n",
      "Epoch 8/10\n",
      "184/184 [==============================] - 20s 109ms/step - loss: 1078.1533\n",
      "Epoch 9/10\n",
      "184/184 [==============================] - 19s 103ms/step - loss: 1065.9882\n",
      "Epoch 10/10\n",
      "184/184 [==============================] - 20s 107ms/step - loss: 877.3948\n"
     ]
    }
   ],
   "source": [
    "#Creating the model using full data and forecasting n steps ahead\n",
    "\n",
    "deep_learner = DeepModelTS(\n",
    "    data=df,\n",
    "    Y_var='PM2.5',\n",
    "    lag=48,\n",
    "    LSTM_layer_depth=64,\n",
    "    epochs=10,\n",
    "    train_test_split=0\n",
    ")\n",
    "# Fitting the model\n",
    "deep_learner.LSTModel()\n",
    "# Forecasting n steps ahead - hourly\n",
    "n_ahead = 168 # ข้อมูล 7 วัน \n",
    "yhat = deep_learner.predict_n_ahead(n_ahead)\n",
    "yhat = [y[0][0] for y in yhat]"
   ]
  },
  {
   "cell_type": "code",
   "execution_count": 64,
   "metadata": {},
   "outputs": [
    {
     "data": {
      "image/png": "[encoded data removed]",
      "text/plain": [
       "<Figure size 720x288 with 1 Axes>"
      ]
     },
     "metadata": {
      "needs_background": "light"
     },
     "output_type": "display_data"
    }
   ],
   "source": [
    "plt.figure(figsize=(10, 4))\n",
    "plt.plot(yhat, 'b', lw=2.0, label='forcasting PM2.5 in ahead for 720 hours (30 days)')\n",
    "plt.legend()\n",
    "plt.show()"
   ]
  },
  {
   "cell_type": "code",
   "execution_count": 65,
   "metadata": {},
   "outputs": [
    {
     "data": {
      "text/html": [
       "<div>\n",
       "<style scoped>\n",
       "    .dataframe tbody tr th:only-of-type {\n",
       "        vertical-align: middle;\n",
       "    }\n",
       "\n",
       "    .dataframe tbody tr th {\n",
       "        vertical-align: top;\n",
       "    }\n",
       "\n",
       "    .dataframe thead th {\n",
       "        text-align: right;\n",
       "    }\n",
       "</style>\n",
       "<table border=\"1\" class=\"dataframe\">\n",
       "  <thead>\n",
       "    <tr style=\"text-align: right;\">\n",
       "      <th></th>\n",
       "      <th>พยากรณ์ PM2.5</th>\n",
       "    </tr>\n",
       "  </thead>\n",
       "  <tbody>\n",
       "    <tr>\n",
       "      <th>0</th>\n",
       "      <td>54.0</td>\n",
       "    </tr>\n",
       "    <tr>\n",
       "      <th>1</th>\n",
       "      <td>61.0</td>\n",
       "    </tr>\n",
       "    <tr>\n",
       "      <th>2</th>\n",
       "      <td>62.0</td>\n",
       "    </tr>\n",
       "    <tr>\n",
       "      <th>3</th>\n",
       "      <td>65.0</td>\n",
       "    </tr>\n",
       "    <tr>\n",
       "      <th>4</th>\n",
       "      <td>64.0</td>\n",
       "    </tr>\n",
       "    <tr>\n",
       "      <th>...</th>\n",
       "      <td>...</td>\n",
       "    </tr>\n",
       "    <tr>\n",
       "      <th>163</th>\n",
       "      <td>6.0</td>\n",
       "    </tr>\n",
       "    <tr>\n",
       "      <th>164</th>\n",
       "      <td>-7.0</td>\n",
       "    </tr>\n",
       "    <tr>\n",
       "      <th>165</th>\n",
       "      <td>-8.0</td>\n",
       "    </tr>\n",
       "    <tr>\n",
       "      <th>166</th>\n",
       "      <td>-16.0</td>\n",
       "    </tr>\n",
       "    <tr>\n",
       "      <th>167</th>\n",
       "      <td>61.0</td>\n",
       "    </tr>\n",
       "  </tbody>\n",
       "</table>\n",
       "<p>168 rows × 1 columns</p>\n",
       "</div>"
      ],
      "text/plain": [
       "     พยากรณ์ PM2.5\n",
       "0             54.0\n",
       "1             61.0\n",
       "2             62.0\n",
       "3             65.0\n",
       "4             64.0\n",
       "..             ...\n",
       "163            6.0\n",
       "164           -7.0\n",
       "165           -8.0\n",
       "166          -16.0\n",
       "167           61.0\n",
       "\n",
       "[168 rows x 1 columns]"
      ]
     },
     "execution_count": 65,
     "metadata": {},
     "output_type": "execute_result"
    }
   ],
   "source": [
    "predict = pd.DataFrame(yhat)\n",
    "ypred = predict.rename(columns={0:'พยากรณ์ PM2.5'}).round(0)\n",
    "ypred"
   ]
  },
  {
   "cell_type": "code",
   "execution_count": 67,
   "metadata": {},
   "outputs": [
    {
     "data": {
      "text/plain": [
       "พยากรณ์ PM2.5   -17.0\n",
       "dtype: float32"
      ]
     },
     "execution_count": 67,
     "metadata": {},
     "output_type": "execute_result"
    }
   ],
   "source": [
    "#มลพิษ ประเทศไทย ค่า PM 2.5 ไม่ควรเกิน 50 ไมโครกรัมต่อลูกบาศก์เมตรใน 24 ชั่วโมง\n",
    "\n",
    "ypred.mean().round(0)"
   ]
  }
 ],
 "metadata": {
  "interpreter": {
   "hash": "628a0465dbd111405b4edd9d7b88a6fdbb764392335ef0e96f2e8a7899c710eb"
  },
  "kernelspec": {
   "display_name": "Python 3.9.10 64-bit ('myenv': conda)",
   "language": "python",
   "name": "python3"
  },
  "language_info": {
   "codemirror_mode": {
    "name": "ipython",
    "version": 3
   },
   "file_extension": ".py",
   "mimetype": "text/x-python",
   "name": "python",
   "nbconvert_exporter": "python",
   "pygments_lexer": "ipython3",
   "version": "3.9.12"
  },
  "orig_nbformat": 4
 },
 "nbformat": 4,
 "nbformat_minor": 2
}
